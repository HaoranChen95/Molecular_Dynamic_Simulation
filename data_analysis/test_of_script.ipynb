{
 "cells": [
  {
   "cell_type": "code",
   "execution_count": 16,
   "metadata": {},
   "outputs": [
    {
     "output_type": "execute_result",
     "data": {
      "text/plain": [
       "             qx        qy        qz         q    a        px        py  \\\n",
       "0      0.631820  0.629301  0.629454  1.091526    0  0.985855 -0.349581   \n",
       "1      0.628257  0.627094  1.891407  2.089348    0 -0.902828 -1.519840   \n",
       "2      0.630418  0.632128  3.149946  3.274014    0  0.242391  1.148870   \n",
       "3      0.630158  0.627100  4.408586  4.497331    0  0.104598 -1.516394   \n",
       "4      0.629537  1.890182  0.629034  2.089207    0 -0.224538  0.159172   \n",
       "...         ...       ...       ...       ...  ...       ...       ...   \n",
       "63995  3.986518  2.817622  4.829456  6.866947  999 -0.872732  0.405391   \n",
       "63996  3.247210  0.241331  4.990815  5.959098  999  0.101087  0.624846   \n",
       "63997  1.085837  4.362749  1.425933  4.716557  999 -1.251302  0.461109   \n",
       "63998  3.294248  3.262468  3.922491  6.073031  999  1.970965  0.908446   \n",
       "63999  3.007126  1.295046  2.388362  4.052681  999  0.488655  0.971950   \n",
       "\n",
       "             pz         p  b        fx         fy         fz          f  \n",
       "0     -0.268288  1.079859  0  0.000000   0.000000   0.000000   0.000000  \n",
       "1      0.808498  1.943883  0  0.000000   0.000000   0.000000   0.000000  \n",
       "2      0.075888  1.176612  0  0.000000   0.000000   0.000000   0.000000  \n",
       "3     -0.603174  1.635302  0  0.000000   0.000000   0.000000   0.000000  \n",
       "4     -0.491189  0.563045  0  0.000000   0.000000   0.000000   0.000000  \n",
       "...         ...       ... ..       ...        ...        ...        ...  \n",
       "63995  0.051703  0.963679  0 -0.960029  -0.084754   2.467934   2.649441  \n",
       "63996  1.643347  1.761034  0 -8.788867 -18.448174  11.001123  23.207844  \n",
       "63997 -1.722100  2.178074  0 -0.012123   0.006480   0.001272   0.013805  \n",
       "63998 -1.340051  2.550631  0 -4.846202  -2.624450  11.242521  12.520691  \n",
       "63999 -1.049113  1.511326  0  0.652768  -0.102597  -0.208212   0.692809  \n",
       "\n",
       "[64000 rows x 14 columns]"
      ],
      "text/html": "<div>\n<style scoped>\n    .dataframe tbody tr th:only-of-type {\n        vertical-align: middle;\n    }\n\n    .dataframe tbody tr th {\n        vertical-align: top;\n    }\n\n    .dataframe thead th {\n        text-align: right;\n    }\n</style>\n<table border=\"1\" class=\"dataframe\">\n  <thead>\n    <tr style=\"text-align: right;\">\n      <th></th>\n      <th>qx</th>\n      <th>qy</th>\n      <th>qz</th>\n      <th>q</th>\n      <th>a</th>\n      <th>px</th>\n      <th>py</th>\n      <th>pz</th>\n      <th>p</th>\n      <th>b</th>\n      <th>fx</th>\n      <th>fy</th>\n      <th>fz</th>\n      <th>f</th>\n    </tr>\n  </thead>\n  <tbody>\n    <tr>\n      <th>0</th>\n      <td>0.631820</td>\n      <td>0.629301</td>\n      <td>0.629454</td>\n      <td>1.091526</td>\n      <td>0</td>\n      <td>0.985855</td>\n      <td>-0.349581</td>\n      <td>-0.268288</td>\n      <td>1.079859</td>\n      <td>0</td>\n      <td>0.000000</td>\n      <td>0.000000</td>\n      <td>0.000000</td>\n      <td>0.000000</td>\n    </tr>\n    <tr>\n      <th>1</th>\n      <td>0.628257</td>\n      <td>0.627094</td>\n      <td>1.891407</td>\n      <td>2.089348</td>\n      <td>0</td>\n      <td>-0.902828</td>\n      <td>-1.519840</td>\n      <td>0.808498</td>\n      <td>1.943883</td>\n      <td>0</td>\n      <td>0.000000</td>\n      <td>0.000000</td>\n      <td>0.000000</td>\n      <td>0.000000</td>\n    </tr>\n    <tr>\n      <th>2</th>\n      <td>0.630418</td>\n      <td>0.632128</td>\n      <td>3.149946</td>\n      <td>3.274014</td>\n      <td>0</td>\n      <td>0.242391</td>\n      <td>1.148870</td>\n      <td>0.075888</td>\n      <td>1.176612</td>\n      <td>0</td>\n      <td>0.000000</td>\n      <td>0.000000</td>\n      <td>0.000000</td>\n      <td>0.000000</td>\n    </tr>\n    <tr>\n      <th>3</th>\n      <td>0.630158</td>\n      <td>0.627100</td>\n      <td>4.408586</td>\n      <td>4.497331</td>\n      <td>0</td>\n      <td>0.104598</td>\n      <td>-1.516394</td>\n      <td>-0.603174</td>\n      <td>1.635302</td>\n      <td>0</td>\n      <td>0.000000</td>\n      <td>0.000000</td>\n      <td>0.000000</td>\n      <td>0.000000</td>\n    </tr>\n    <tr>\n      <th>4</th>\n      <td>0.629537</td>\n      <td>1.890182</td>\n      <td>0.629034</td>\n      <td>2.089207</td>\n      <td>0</td>\n      <td>-0.224538</td>\n      <td>0.159172</td>\n      <td>-0.491189</td>\n      <td>0.563045</td>\n      <td>0</td>\n      <td>0.000000</td>\n      <td>0.000000</td>\n      <td>0.000000</td>\n      <td>0.000000</td>\n    </tr>\n    <tr>\n      <th>...</th>\n      <td>...</td>\n      <td>...</td>\n      <td>...</td>\n      <td>...</td>\n      <td>...</td>\n      <td>...</td>\n      <td>...</td>\n      <td>...</td>\n      <td>...</td>\n      <td>...</td>\n      <td>...</td>\n      <td>...</td>\n      <td>...</td>\n      <td>...</td>\n    </tr>\n    <tr>\n      <th>63995</th>\n      <td>3.986518</td>\n      <td>2.817622</td>\n      <td>4.829456</td>\n      <td>6.866947</td>\n      <td>999</td>\n      <td>-0.872732</td>\n      <td>0.405391</td>\n      <td>0.051703</td>\n      <td>0.963679</td>\n      <td>0</td>\n      <td>-0.960029</td>\n      <td>-0.084754</td>\n      <td>2.467934</td>\n      <td>2.649441</td>\n    </tr>\n    <tr>\n      <th>63996</th>\n      <td>3.247210</td>\n      <td>0.241331</td>\n      <td>4.990815</td>\n      <td>5.959098</td>\n      <td>999</td>\n      <td>0.101087</td>\n      <td>0.624846</td>\n      <td>1.643347</td>\n      <td>1.761034</td>\n      <td>0</td>\n      <td>-8.788867</td>\n      <td>-18.448174</td>\n      <td>11.001123</td>\n      <td>23.207844</td>\n    </tr>\n    <tr>\n      <th>63997</th>\n      <td>1.085837</td>\n      <td>4.362749</td>\n      <td>1.425933</td>\n      <td>4.716557</td>\n      <td>999</td>\n      <td>-1.251302</td>\n      <td>0.461109</td>\n      <td>-1.722100</td>\n      <td>2.178074</td>\n      <td>0</td>\n      <td>-0.012123</td>\n      <td>0.006480</td>\n      <td>0.001272</td>\n      <td>0.013805</td>\n    </tr>\n    <tr>\n      <th>63998</th>\n      <td>3.294248</td>\n      <td>3.262468</td>\n      <td>3.922491</td>\n      <td>6.073031</td>\n      <td>999</td>\n      <td>1.970965</td>\n      <td>0.908446</td>\n      <td>-1.340051</td>\n      <td>2.550631</td>\n      <td>0</td>\n      <td>-4.846202</td>\n      <td>-2.624450</td>\n      <td>11.242521</td>\n      <td>12.520691</td>\n    </tr>\n    <tr>\n      <th>63999</th>\n      <td>3.007126</td>\n      <td>1.295046</td>\n      <td>2.388362</td>\n      <td>4.052681</td>\n      <td>999</td>\n      <td>0.488655</td>\n      <td>0.971950</td>\n      <td>-1.049113</td>\n      <td>1.511326</td>\n      <td>0</td>\n      <td>0.652768</td>\n      <td>-0.102597</td>\n      <td>-0.208212</td>\n      <td>0.692809</td>\n    </tr>\n  </tbody>\n</table>\n<p>64000 rows × 14 columns</p>\n</div>"
     },
     "metadata": {},
     "execution_count": 16
    }
   ],
   "source": [
    "import pandas as pd\n",
    "import numpy as np\n",
    "filename = r\"../input/p_l_all_time.txt\"\n",
    "columns = [\"qx\",\"qy\",\"qz\",\"q\",\"a\",\"px\",\"py\",\"pz\",\"p\",\"b\",\"fx\",\"fy\",\"fz\",\"f\"]\n",
    "df = pd.read_csv(filename, names=columns)\n",
    "\n",
    "def time(i):\n",
    "    return (i//64)\n",
    "\n",
    "df[\"a\"] = df.index.map(time)\n",
    "\n",
    "df"
   ]
  },
  {
   "cell_type": "code",
   "execution_count": 17,
   "metadata": {},
   "outputs": [],
   "source": [
    "import matplotlib.pyplot as plt\n",
    "from mpl_toolkits.mplot3d import Axes3D\n",
    "import matplotlib.animation\n",
    "%matplotlib inline"
   ]
  },
  {
   "cell_type": "code",
   "execution_count": 29,
   "metadata": {},
   "outputs": [
    {
     "output_type": "stream",
     "name": "stdout",
     "text": [
      "0\n",
      "0\n",
      "1\n",
      "2\n",
      "3\n",
      "4\n",
      "5\n",
      "6\n",
      "7\n",
      "8\n",
      "9\n",
      "10\n",
      "11\n",
      "12\n",
      "13\n",
      "14\n",
      "15\n",
      "16\n",
      "17\n",
      "18\n",
      "19\n",
      "20\n",
      "21\n",
      "22\n",
      "23\n",
      "24\n",
      "25\n",
      "26\n",
      "27\n",
      "28\n",
      "29\n",
      "30\n",
      "31\n",
      "32\n",
      "33\n",
      "34\n",
      "35\n",
      "36\n",
      "37\n",
      "38\n",
      "39\n",
      "40\n",
      "41\n",
      "42\n",
      "43\n",
      "44\n",
      "45\n",
      "46\n",
      "47\n",
      "48\n",
      "49\n",
      "50\n",
      "51\n",
      "52\n",
      "53\n",
      "54\n",
      "55\n",
      "56\n",
      "57\n",
      "58\n",
      "59\n",
      "60\n",
      "61\n",
      "62\n",
      "63\n",
      "64\n",
      "65\n",
      "66\n",
      "67\n",
      "68\n",
      "69\n",
      "70\n",
      "71\n",
      "72\n",
      "73\n",
      "74\n",
      "75\n",
      "76\n",
      "77\n",
      "MovieWriter stderr:\n",
      "convert-im6.q16: no images defined `im.mp4' @ error/convert.c/ConvertImageCommand/3258.\n",
      "\n"
     ]
    },
    {
     "output_type": "error",
     "ename": "CalledProcessError",
     "evalue": "Command '['convert', '-size', '1800x1200', '-depth', '8', '-delay', '10.0', '-loop', '0', 'rgba:-', 'im.mp4']' returned non-zero exit status 1.",
     "traceback": [
      "\u001b[0;31m---------------------------------------------------------------------------\u001b[0m",
      "\u001b[0;31mBrokenPipeError\u001b[0m                           Traceback (most recent call last)",
      "\u001b[0;32m~/anaconda3/lib/python3.7/site-packages/matplotlib/animation.py\u001b[0m in \u001b[0;36msaving\u001b[0;34m(self, fig, outfile, dpi, *args, **kwargs)\u001b[0m\n\u001b[1;32m    250\u001b[0m         \u001b[0;32mtry\u001b[0m\u001b[0;34m:\u001b[0m\u001b[0;34m\u001b[0m\u001b[0;34m\u001b[0m\u001b[0m\n\u001b[0;32m--> 251\u001b[0;31m             \u001b[0;32myield\u001b[0m \u001b[0mself\u001b[0m\u001b[0;34m\u001b[0m\u001b[0;34m\u001b[0m\u001b[0m\n\u001b[0m\u001b[1;32m    252\u001b[0m         \u001b[0;32mfinally\u001b[0m\u001b[0;34m:\u001b[0m\u001b[0;34m\u001b[0m\u001b[0;34m\u001b[0m\u001b[0m\n",
      "\u001b[0;32m~/anaconda3/lib/python3.7/site-packages/matplotlib/animation.py\u001b[0m in \u001b[0;36msave\u001b[0;34m(self, filename, writer, fps, dpi, codec, bitrate, extra_args, metadata, extra_anim, savefig_kwargs, progress_callback)\u001b[0m\n\u001b[1;32m   1144\u001b[0m                         \u001b[0mframe_number\u001b[0m \u001b[0;34m+=\u001b[0m \u001b[0;36m1\u001b[0m\u001b[0;34m\u001b[0m\u001b[0;34m\u001b[0m\u001b[0m\n\u001b[0;32m-> 1145\u001b[0;31m                 \u001b[0mwriter\u001b[0m\u001b[0;34m.\u001b[0m\u001b[0mgrab_frame\u001b[0m\u001b[0;34m(\u001b[0m\u001b[0;34m**\u001b[0m\u001b[0msavefig_kwargs\u001b[0m\u001b[0;34m)\u001b[0m\u001b[0;34m\u001b[0m\u001b[0;34m\u001b[0m\u001b[0m\n\u001b[0m\u001b[1;32m   1146\u001b[0m \u001b[0;34m\u001b[0m\u001b[0m\n",
      "\u001b[0;32m~/anaconda3/lib/python3.7/site-packages/matplotlib/animation.py\u001b[0m in \u001b[0;36mgrab_frame\u001b[0;34m(self, **savefig_kwargs)\u001b[0m\n\u001b[1;32m    363\u001b[0m         self.fig.savefig(self._frame_sink(), format=self.frame_format,\n\u001b[0;32m--> 364\u001b[0;31m                          dpi=self.dpi, **savefig_kwargs)\n\u001b[0m\u001b[1;32m    365\u001b[0m \u001b[0;34m\u001b[0m\u001b[0m\n",
      "\u001b[0;32m~/anaconda3/lib/python3.7/site-packages/matplotlib/figure.py\u001b[0m in \u001b[0;36msavefig\u001b[0;34m(self, fname, transparent, **kwargs)\u001b[0m\n\u001b[1;32m   2310\u001b[0m \u001b[0;34m\u001b[0m\u001b[0m\n\u001b[0;32m-> 2311\u001b[0;31m         \u001b[0mself\u001b[0m\u001b[0;34m.\u001b[0m\u001b[0mcanvas\u001b[0m\u001b[0;34m.\u001b[0m\u001b[0mprint_figure\u001b[0m\u001b[0;34m(\u001b[0m\u001b[0mfname\u001b[0m\u001b[0;34m,\u001b[0m \u001b[0;34m**\u001b[0m\u001b[0mkwargs\u001b[0m\u001b[0;34m)\u001b[0m\u001b[0;34m\u001b[0m\u001b[0;34m\u001b[0m\u001b[0m\n\u001b[0m\u001b[1;32m   2312\u001b[0m \u001b[0;34m\u001b[0m\u001b[0m\n",
      "\u001b[0;32m~/anaconda3/lib/python3.7/site-packages/matplotlib/backend_bases.py\u001b[0m in \u001b[0;36mprint_figure\u001b[0;34m(self, filename, dpi, facecolor, edgecolor, orientation, format, bbox_inches, pad_inches, bbox_extra_artists, backend, **kwargs)\u001b[0m\n\u001b[1;32m   2216\u001b[0m                     \u001b[0mbbox_inches_restore\u001b[0m\u001b[0;34m=\u001b[0m\u001b[0m_bbox_inches_restore\u001b[0m\u001b[0;34m,\u001b[0m\u001b[0;34m\u001b[0m\u001b[0;34m\u001b[0m\u001b[0m\n\u001b[0;32m-> 2217\u001b[0;31m                     **kwargs)\n\u001b[0m\u001b[1;32m   2218\u001b[0m             \u001b[0;32mfinally\u001b[0m\u001b[0;34m:\u001b[0m\u001b[0;34m\u001b[0m\u001b[0;34m\u001b[0m\u001b[0m\n",
      "\u001b[0;32m~/anaconda3/lib/python3.7/site-packages/matplotlib/backend_bases.py\u001b[0m in \u001b[0;36mwrapper\u001b[0;34m(*args, **kwargs)\u001b[0m\n\u001b[1;32m   1638\u001b[0m \u001b[0;34m\u001b[0m\u001b[0m\n\u001b[0;32m-> 1639\u001b[0;31m         \u001b[0;32mreturn\u001b[0m \u001b[0mfunc\u001b[0m\u001b[0;34m(\u001b[0m\u001b[0;34m*\u001b[0m\u001b[0margs\u001b[0m\u001b[0;34m,\u001b[0m \u001b[0;34m**\u001b[0m\u001b[0mkwargs\u001b[0m\u001b[0;34m)\u001b[0m\u001b[0;34m\u001b[0m\u001b[0;34m\u001b[0m\u001b[0m\n\u001b[0m\u001b[1;32m   1640\u001b[0m \u001b[0;34m\u001b[0m\u001b[0m\n",
      "\u001b[0;32m~/anaconda3/lib/python3.7/site-packages/matplotlib/backends/backend_agg.py\u001b[0m in \u001b[0;36mprint_raw\u001b[0;34m(self, filename_or_obj, *args)\u001b[0m\n\u001b[1;32m    455\u001b[0m         \u001b[0;32mwith\u001b[0m \u001b[0mcbook\u001b[0m\u001b[0;34m.\u001b[0m\u001b[0mopen_file_cm\u001b[0m\u001b[0;34m(\u001b[0m\u001b[0mfilename_or_obj\u001b[0m\u001b[0;34m,\u001b[0m \u001b[0;34m\"wb\"\u001b[0m\u001b[0;34m)\u001b[0m \u001b[0;32mas\u001b[0m \u001b[0mfh\u001b[0m\u001b[0;34m:\u001b[0m\u001b[0;34m\u001b[0m\u001b[0;34m\u001b[0m\u001b[0m\n\u001b[0;32m--> 456\u001b[0;31m             \u001b[0mfh\u001b[0m\u001b[0;34m.\u001b[0m\u001b[0mwrite\u001b[0m\u001b[0;34m(\u001b[0m\u001b[0mrenderer\u001b[0m\u001b[0;34m.\u001b[0m\u001b[0mbuffer_rgba\u001b[0m\u001b[0;34m(\u001b[0m\u001b[0;34m)\u001b[0m\u001b[0;34m)\u001b[0m\u001b[0;34m\u001b[0m\u001b[0;34m\u001b[0m\u001b[0m\n\u001b[0m\u001b[1;32m    457\u001b[0m \u001b[0;34m\u001b[0m\u001b[0m\n",
      "\u001b[0;31mBrokenPipeError\u001b[0m: [Errno 32] Broken pipe",
      "\nDuring handling of the above exception, another exception occurred:\n",
      "\u001b[0;31mCalledProcessError\u001b[0m                        Traceback (most recent call last)",
      "\u001b[0;32m<ipython-input-29-2c91c0e9fc41>\u001b[0m in \u001b[0;36m<module>\u001b[0;34m\u001b[0m\n\u001b[1;32m     27\u001b[0m \u001b[0;34m\u001b[0m\u001b[0m\n\u001b[1;32m     28\u001b[0m \u001b[0;34m\u001b[0m\u001b[0m\n\u001b[0;32m---> 29\u001b[0;31m \u001b[0mani\u001b[0m\u001b[0;34m.\u001b[0m\u001b[0msave\u001b[0m\u001b[0;34m(\u001b[0m\u001b[0;34m'im.mp4'\u001b[0m\u001b[0;34m,\u001b[0m \u001b[0mwriter\u001b[0m\u001b[0;34m=\u001b[0m\u001b[0;34m'imagemagick'\u001b[0m\u001b[0;34m,\u001b[0m \u001b[0mfps\u001b[0m\u001b[0;34m=\u001b[0m\u001b[0;36m10\u001b[0m\u001b[0;34m,\u001b[0m \u001b[0mdpi\u001b[0m \u001b[0;34m=\u001b[0m \u001b[0;36m300\u001b[0m\u001b[0;34m)\u001b[0m\u001b[0;34m\u001b[0m\u001b[0;34m\u001b[0m\u001b[0m\n\u001b[0m\u001b[1;32m     30\u001b[0m \u001b[0;34m\u001b[0m\u001b[0m\n\u001b[1;32m     31\u001b[0m \u001b[0mplt\u001b[0m\u001b[0;34m.\u001b[0m\u001b[0mshow\u001b[0m\u001b[0;34m(\u001b[0m\u001b[0;34m)\u001b[0m\u001b[0;34m\u001b[0m\u001b[0;34m\u001b[0m\u001b[0m\n",
      "\u001b[0;32m~/anaconda3/lib/python3.7/site-packages/matplotlib/animation.py\u001b[0m in \u001b[0;36msave\u001b[0;34m(self, filename, writer, fps, dpi, codec, bitrate, extra_args, metadata, extra_anim, savefig_kwargs, progress_callback)\u001b[0m\n\u001b[1;32m   1143\u001b[0m                         \u001b[0mprogress_callback\u001b[0m\u001b[0;34m(\u001b[0m\u001b[0mframe_number\u001b[0m\u001b[0;34m,\u001b[0m \u001b[0mtotal_frames\u001b[0m\u001b[0;34m)\u001b[0m\u001b[0;34m\u001b[0m\u001b[0;34m\u001b[0m\u001b[0m\n\u001b[1;32m   1144\u001b[0m                         \u001b[0mframe_number\u001b[0m \u001b[0;34m+=\u001b[0m \u001b[0;36m1\u001b[0m\u001b[0;34m\u001b[0m\u001b[0;34m\u001b[0m\u001b[0m\n\u001b[0;32m-> 1145\u001b[0;31m                 \u001b[0mwriter\u001b[0m\u001b[0;34m.\u001b[0m\u001b[0mgrab_frame\u001b[0m\u001b[0;34m(\u001b[0m\u001b[0;34m**\u001b[0m\u001b[0msavefig_kwargs\u001b[0m\u001b[0;34m)\u001b[0m\u001b[0;34m\u001b[0m\u001b[0;34m\u001b[0m\u001b[0m\n\u001b[0m\u001b[1;32m   1146\u001b[0m \u001b[0;34m\u001b[0m\u001b[0m\n\u001b[1;32m   1147\u001b[0m     \u001b[0;32mdef\u001b[0m \u001b[0m_step\u001b[0m\u001b[0;34m(\u001b[0m\u001b[0mself\u001b[0m\u001b[0;34m,\u001b[0m \u001b[0;34m*\u001b[0m\u001b[0margs\u001b[0m\u001b[0;34m)\u001b[0m\u001b[0;34m:\u001b[0m\u001b[0;34m\u001b[0m\u001b[0;34m\u001b[0m\u001b[0m\n",
      "\u001b[0;32m~/anaconda3/lib/python3.7/contextlib.py\u001b[0m in \u001b[0;36m__exit__\u001b[0;34m(self, type, value, traceback)\u001b[0m\n\u001b[1;32m    128\u001b[0m                 \u001b[0mvalue\u001b[0m \u001b[0;34m=\u001b[0m \u001b[0mtype\u001b[0m\u001b[0;34m(\u001b[0m\u001b[0;34m)\u001b[0m\u001b[0;34m\u001b[0m\u001b[0;34m\u001b[0m\u001b[0m\n\u001b[1;32m    129\u001b[0m             \u001b[0;32mtry\u001b[0m\u001b[0;34m:\u001b[0m\u001b[0;34m\u001b[0m\u001b[0;34m\u001b[0m\u001b[0m\n\u001b[0;32m--> 130\u001b[0;31m                 \u001b[0mself\u001b[0m\u001b[0;34m.\u001b[0m\u001b[0mgen\u001b[0m\u001b[0;34m.\u001b[0m\u001b[0mthrow\u001b[0m\u001b[0;34m(\u001b[0m\u001b[0mtype\u001b[0m\u001b[0;34m,\u001b[0m \u001b[0mvalue\u001b[0m\u001b[0;34m,\u001b[0m \u001b[0mtraceback\u001b[0m\u001b[0;34m)\u001b[0m\u001b[0;34m\u001b[0m\u001b[0;34m\u001b[0m\u001b[0m\n\u001b[0m\u001b[1;32m    131\u001b[0m             \u001b[0;32mexcept\u001b[0m \u001b[0mStopIteration\u001b[0m \u001b[0;32mas\u001b[0m \u001b[0mexc\u001b[0m\u001b[0;34m:\u001b[0m\u001b[0;34m\u001b[0m\u001b[0;34m\u001b[0m\u001b[0m\n\u001b[1;32m    132\u001b[0m                 \u001b[0;31m# Suppress StopIteration *unless* it's the same exception that\u001b[0m\u001b[0;34m\u001b[0m\u001b[0;34m\u001b[0m\u001b[0;34m\u001b[0m\u001b[0m\n",
      "\u001b[0;32m~/anaconda3/lib/python3.7/site-packages/matplotlib/animation.py\u001b[0m in \u001b[0;36msaving\u001b[0;34m(self, fig, outfile, dpi, *args, **kwargs)\u001b[0m\n\u001b[1;32m    251\u001b[0m             \u001b[0;32myield\u001b[0m \u001b[0mself\u001b[0m\u001b[0;34m\u001b[0m\u001b[0;34m\u001b[0m\u001b[0m\n\u001b[1;32m    252\u001b[0m         \u001b[0;32mfinally\u001b[0m\u001b[0;34m:\u001b[0m\u001b[0;34m\u001b[0m\u001b[0;34m\u001b[0m\u001b[0m\n\u001b[0;32m--> 253\u001b[0;31m             \u001b[0mself\u001b[0m\u001b[0;34m.\u001b[0m\u001b[0mfinish\u001b[0m\u001b[0;34m(\u001b[0m\u001b[0;34m)\u001b[0m\u001b[0;34m\u001b[0m\u001b[0;34m\u001b[0m\u001b[0m\n\u001b[0m\u001b[1;32m    254\u001b[0m \u001b[0;34m\u001b[0m\u001b[0m\n\u001b[1;32m    255\u001b[0m \u001b[0;34m\u001b[0m\u001b[0m\n",
      "\u001b[0;32m~/anaconda3/lib/python3.7/site-packages/matplotlib/animation.py\u001b[0m in \u001b[0;36mfinish\u001b[0;34m(self)\u001b[0m\n\u001b[1;32m    352\u001b[0m     \u001b[0;32mdef\u001b[0m \u001b[0mfinish\u001b[0m\u001b[0;34m(\u001b[0m\u001b[0mself\u001b[0m\u001b[0;34m)\u001b[0m\u001b[0;34m:\u001b[0m\u001b[0;34m\u001b[0m\u001b[0;34m\u001b[0m\u001b[0m\n\u001b[1;32m    353\u001b[0m         \u001b[0;34m\"\"\"Finish any processing for writing the movie.\"\"\"\u001b[0m\u001b[0;34m\u001b[0m\u001b[0;34m\u001b[0m\u001b[0m\n\u001b[0;32m--> 354\u001b[0;31m         \u001b[0mself\u001b[0m\u001b[0;34m.\u001b[0m\u001b[0mcleanup\u001b[0m\u001b[0;34m(\u001b[0m\u001b[0;34m)\u001b[0m\u001b[0;34m\u001b[0m\u001b[0;34m\u001b[0m\u001b[0m\n\u001b[0m\u001b[1;32m    355\u001b[0m \u001b[0;34m\u001b[0m\u001b[0m\n\u001b[1;32m    356\u001b[0m     \u001b[0;32mdef\u001b[0m \u001b[0mgrab_frame\u001b[0m\u001b[0;34m(\u001b[0m\u001b[0mself\u001b[0m\u001b[0;34m,\u001b[0m \u001b[0;34m**\u001b[0m\u001b[0msavefig_kwargs\u001b[0m\u001b[0;34m)\u001b[0m\u001b[0;34m:\u001b[0m\u001b[0;34m\u001b[0m\u001b[0;34m\u001b[0m\u001b[0m\n",
      "\u001b[0;32m~/anaconda3/lib/python3.7/site-packages/matplotlib/animation.py\u001b[0m in \u001b[0;36mcleanup\u001b[0;34m(self)\u001b[0m\n\u001b[1;32m    389\u001b[0m         \u001b[0;32mif\u001b[0m \u001b[0mself\u001b[0m\u001b[0;34m.\u001b[0m\u001b[0m_proc\u001b[0m\u001b[0;34m.\u001b[0m\u001b[0mreturncode\u001b[0m\u001b[0;34m:\u001b[0m\u001b[0;34m\u001b[0m\u001b[0;34m\u001b[0m\u001b[0m\n\u001b[1;32m    390\u001b[0m             raise subprocess.CalledProcessError(\n\u001b[0;32m--> 391\u001b[0;31m                 self._proc.returncode, self._proc.args, out, err)\n\u001b[0m\u001b[1;32m    392\u001b[0m \u001b[0;34m\u001b[0m\u001b[0m\n\u001b[1;32m    393\u001b[0m     \u001b[0;34m@\u001b[0m\u001b[0mclassmethod\u001b[0m\u001b[0;34m\u001b[0m\u001b[0;34m\u001b[0m\u001b[0m\n",
      "\u001b[0;31mCalledProcessError\u001b[0m: Command '['convert', '-size', '1800x1200', '-depth', '8', '-delay', '10.0', '-loop', '0', 'rgba:-', 'im.mp4']' returned non-zero exit status 1."
     ]
    }
   ],
   "source": [
    "def update_graph(num):\n",
    "    print(num)\n",
    "    data=df[df['a']==num]\n",
    "    graph.set_data (data.qx, data.qy)\n",
    "    graph.set_3d_properties(data.qz)\n",
    "    title.set_text('3D Test, time={}'.format(num*0.01))\n",
    "    return title, graph\n",
    "    \n",
    "fig = plt.figure()\n",
    "ax = fig.add_subplot(111, projection='3d')\n",
    "title = ax.set_title('3D Test')\n",
    "\n",
    "ax.set_xlim3d([0.0, 5.0])\n",
    "ax.set_xlabel('X')\n",
    "\n",
    "ax.set_ylim3d([0.0, 5.0])\n",
    "ax.set_ylabel('Y')\n",
    "\n",
    "ax.set_zlim3d([0.0, 5.0])\n",
    "ax.set_zlabel('Z')\n",
    "\n",
    "data=df[df['a']==0]\n",
    "graph, = ax.plot(data.qx, data.qy, data.qz, linestyle=\"\", marker=\"o\")\n",
    "\n",
    "ani = matplotlib.animation.FuncAnimation(fig, update_graph, 100,\n",
    "                               interval=100, blit=False)\n",
    "\n",
    "\n",
    "ani.save('im.gif', fps=10, dpi = 300)\n",
    "\n",
    "plt.show()"
   ]
  },
  {
   "cell_type": "code",
   "execution_count": 15,
   "metadata": {},
   "outputs": [
    {
     "output_type": "execute_result",
     "data": {
      "text/plain": [
       "0"
      ]
     },
     "metadata": {},
     "execution_count": 15
    }
   ],
   "source": []
  },
  {
   "cell_type": "code",
   "execution_count": 24,
   "metadata": {},
   "outputs": [
    {
     "output_type": "execute_result",
     "data": {
      "text/plain": [
       "            qx        qy        qz         q   a        px        py  \\\n",
       "4992  0.962861  0.222768  0.867702  1.315156  78  1.288243 -0.447869   \n",
       "4993  0.859957  0.619554  2.259515  2.495752  78  1.677949  0.414369   \n",
       "4994  1.219814  1.508049  3.319596  3.844720  78 -0.710275 -0.580097   \n",
       "4995  0.453110  4.492965  4.007539  6.037583  78 -0.790158 -0.570863   \n",
       "4996  1.440671  2.177253  0.129755  2.613962  78  0.574443 -2.382059   \n",
       "...        ...       ...       ...       ...  ..       ...       ...   \n",
       "5051  4.741190  2.806541  4.741991  7.269252  78  0.561933 -0.296335   \n",
       "5052  4.066906  4.223422  0.794757  5.916812  78 -0.135761  0.034523   \n",
       "5053  4.269851  3.963482  1.829073  6.106253  78  0.881770  0.107976   \n",
       "5054  0.610119  0.309382  3.312090  3.381997  78  1.032242  0.231817   \n",
       "5055  4.763937  3.738091  4.045045  7.282226  78  0.162752 -0.121229   \n",
       "\n",
       "            pz         p  b         fx         fy         fz          f  \n",
       "4992  0.643965  1.508260  0   1.487039  11.067425  -5.383459  12.396807  \n",
       "4993  0.143931  1.734339  0  -5.370151   5.649715   1.680051   7.973730  \n",
       "4994 -0.182726  0.935089  0 -25.911328 -10.678262 -27.548984  39.298457  \n",
       "4995 -0.462529  1.078966  0 -15.952846  -3.286379  -0.229115  16.289447  \n",
       "4996 -0.479095  2.496742  0  -8.763126  -8.631747   2.754166  12.604953  \n",
       "...        ...       ... ..        ...        ...        ...        ...  \n",
       "5051  0.122846  0.647051  0   0.000000   0.000000   0.000000   0.000000  \n",
       "5052  0.509656  0.528557  0  -0.559719   0.716911  -2.852631   2.994119  \n",
       "5053 -0.604988  1.074796  0  -9.704881   4.353163 -11.653887  15.778080  \n",
       "5054  0.332787  1.109058  0   0.072889   0.397436  -0.322854   0.517207  \n",
       "5055  1.535579  1.548931  0  -1.953446   3.497051  10.729016  11.452384  \n",
       "\n",
       "[64 rows x 14 columns]"
      ],
      "text/html": "<div>\n<style scoped>\n    .dataframe tbody tr th:only-of-type {\n        vertical-align: middle;\n    }\n\n    .dataframe tbody tr th {\n        vertical-align: top;\n    }\n\n    .dataframe thead th {\n        text-align: right;\n    }\n</style>\n<table border=\"1\" class=\"dataframe\">\n  <thead>\n    <tr style=\"text-align: right;\">\n      <th></th>\n      <th>qx</th>\n      <th>qy</th>\n      <th>qz</th>\n      <th>q</th>\n      <th>a</th>\n      <th>px</th>\n      <th>py</th>\n      <th>pz</th>\n      <th>p</th>\n      <th>b</th>\n      <th>fx</th>\n      <th>fy</th>\n      <th>fz</th>\n      <th>f</th>\n    </tr>\n  </thead>\n  <tbody>\n    <tr>\n      <th>4992</th>\n      <td>0.962861</td>\n      <td>0.222768</td>\n      <td>0.867702</td>\n      <td>1.315156</td>\n      <td>78</td>\n      <td>1.288243</td>\n      <td>-0.447869</td>\n      <td>0.643965</td>\n      <td>1.508260</td>\n      <td>0</td>\n      <td>1.487039</td>\n      <td>11.067425</td>\n      <td>-5.383459</td>\n      <td>12.396807</td>\n    </tr>\n    <tr>\n      <th>4993</th>\n      <td>0.859957</td>\n      <td>0.619554</td>\n      <td>2.259515</td>\n      <td>2.495752</td>\n      <td>78</td>\n      <td>1.677949</td>\n      <td>0.414369</td>\n      <td>0.143931</td>\n      <td>1.734339</td>\n      <td>0</td>\n      <td>-5.370151</td>\n      <td>5.649715</td>\n      <td>1.680051</td>\n      <td>7.973730</td>\n    </tr>\n    <tr>\n      <th>4994</th>\n      <td>1.219814</td>\n      <td>1.508049</td>\n      <td>3.319596</td>\n      <td>3.844720</td>\n      <td>78</td>\n      <td>-0.710275</td>\n      <td>-0.580097</td>\n      <td>-0.182726</td>\n      <td>0.935089</td>\n      <td>0</td>\n      <td>-25.911328</td>\n      <td>-10.678262</td>\n      <td>-27.548984</td>\n      <td>39.298457</td>\n    </tr>\n    <tr>\n      <th>4995</th>\n      <td>0.453110</td>\n      <td>4.492965</td>\n      <td>4.007539</td>\n      <td>6.037583</td>\n      <td>78</td>\n      <td>-0.790158</td>\n      <td>-0.570863</td>\n      <td>-0.462529</td>\n      <td>1.078966</td>\n      <td>0</td>\n      <td>-15.952846</td>\n      <td>-3.286379</td>\n      <td>-0.229115</td>\n      <td>16.289447</td>\n    </tr>\n    <tr>\n      <th>4996</th>\n      <td>1.440671</td>\n      <td>2.177253</td>\n      <td>0.129755</td>\n      <td>2.613962</td>\n      <td>78</td>\n      <td>0.574443</td>\n      <td>-2.382059</td>\n      <td>-0.479095</td>\n      <td>2.496742</td>\n      <td>0</td>\n      <td>-8.763126</td>\n      <td>-8.631747</td>\n      <td>2.754166</td>\n      <td>12.604953</td>\n    </tr>\n    <tr>\n      <th>...</th>\n      <td>...</td>\n      <td>...</td>\n      <td>...</td>\n      <td>...</td>\n      <td>...</td>\n      <td>...</td>\n      <td>...</td>\n      <td>...</td>\n      <td>...</td>\n      <td>...</td>\n      <td>...</td>\n      <td>...</td>\n      <td>...</td>\n      <td>...</td>\n    </tr>\n    <tr>\n      <th>5051</th>\n      <td>4.741190</td>\n      <td>2.806541</td>\n      <td>4.741991</td>\n      <td>7.269252</td>\n      <td>78</td>\n      <td>0.561933</td>\n      <td>-0.296335</td>\n      <td>0.122846</td>\n      <td>0.647051</td>\n      <td>0</td>\n      <td>0.000000</td>\n      <td>0.000000</td>\n      <td>0.000000</td>\n      <td>0.000000</td>\n    </tr>\n    <tr>\n      <th>5052</th>\n      <td>4.066906</td>\n      <td>4.223422</td>\n      <td>0.794757</td>\n      <td>5.916812</td>\n      <td>78</td>\n      <td>-0.135761</td>\n      <td>0.034523</td>\n      <td>0.509656</td>\n      <td>0.528557</td>\n      <td>0</td>\n      <td>-0.559719</td>\n      <td>0.716911</td>\n      <td>-2.852631</td>\n      <td>2.994119</td>\n    </tr>\n    <tr>\n      <th>5053</th>\n      <td>4.269851</td>\n      <td>3.963482</td>\n      <td>1.829073</td>\n      <td>6.106253</td>\n      <td>78</td>\n      <td>0.881770</td>\n      <td>0.107976</td>\n      <td>-0.604988</td>\n      <td>1.074796</td>\n      <td>0</td>\n      <td>-9.704881</td>\n      <td>4.353163</td>\n      <td>-11.653887</td>\n      <td>15.778080</td>\n    </tr>\n    <tr>\n      <th>5054</th>\n      <td>0.610119</td>\n      <td>0.309382</td>\n      <td>3.312090</td>\n      <td>3.381997</td>\n      <td>78</td>\n      <td>1.032242</td>\n      <td>0.231817</td>\n      <td>0.332787</td>\n      <td>1.109058</td>\n      <td>0</td>\n      <td>0.072889</td>\n      <td>0.397436</td>\n      <td>-0.322854</td>\n      <td>0.517207</td>\n    </tr>\n    <tr>\n      <th>5055</th>\n      <td>4.763937</td>\n      <td>3.738091</td>\n      <td>4.045045</td>\n      <td>7.282226</td>\n      <td>78</td>\n      <td>0.162752</td>\n      <td>-0.121229</td>\n      <td>1.535579</td>\n      <td>1.548931</td>\n      <td>0</td>\n      <td>-1.953446</td>\n      <td>3.497051</td>\n      <td>10.729016</td>\n      <td>11.452384</td>\n    </tr>\n  </tbody>\n</table>\n<p>64 rows × 14 columns</p>\n</div>"
     },
     "metadata": {},
     "execution_count": 24
    }
   ],
   "source": [
    "df[df['a']==78]"
   ]
  },
  {
   "cell_type": "code",
   "execution_count": null,
   "metadata": {},
   "outputs": [],
   "source": []
  }
 ],
 "metadata": {
  "kernelspec": {
   "display_name": "Python 3",
   "language": "python",
   "name": "python3"
  },
  "language_info": {
   "codemirror_mode": {
    "name": "ipython",
    "version": 3
   },
   "file_extension": ".py",
   "mimetype": "text/x-python",
   "name": "python",
   "nbconvert_exporter": "python",
   "pygments_lexer": "ipython3",
   "version": "3.7.9-final"
  },
  "latex_envs": {
   "LaTeX_envs_menu_present": true,
   "autoclose": true,
   "autocomplete": true,
   "bibliofile": "biblio.bib",
   "cite_by": "apalike",
   "current_citInitial": 1,
   "eqLabelWithNumbers": true,
   "eqNumInitial": 1,
   "hotkeys": {
    "equation": "Ctrl-E",
    "itemize": "Ctrl-I"
   },
   "labels_anchors": false,
   "latex_user_defs": false,
   "report_style_numbering": false,
   "user_envs_cfg": false
  }
 },
 "nbformat": 4,
 "nbformat_minor": 4
}